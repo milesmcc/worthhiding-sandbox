{
 "cells": [
  {
   "cell_type": "code",
   "execution_count": 1,
   "metadata": {
    "collapsed": true
   },
   "outputs": [],
   "source": [
    "import nltk\n",
    "import json\n",
    "from datetime import datetime"
   ]
  },
  {
   "cell_type": "code",
   "execution_count": 2,
   "metadata": {
    "collapsed": true
   },
   "outputs": [],
   "source": [
    "statements = []\n",
    "\n",
    "with open(\"data/nsa.json\", \"r\") as infile:\n",
    "    statements = json.load(infile)\n",
    "\n",
    "for statement in statements:\n",
    "    statement['datetime'] = datetime.strptime(statement['date'], '%Y-%m-%d')"
   ]
  },
  {
   "cell_type": "code",
   "execution_count": 20,
   "metadata": {
    "collapsed": true
   },
   "outputs": [],
   "source": [
    "text = ' '.join([statement['statement'].lower() for statement in sorted(statements, key=lambda k: k['datetime'])])\n",
    "corpus = nltk.Text(text.split())"
   ]
  },
  {
   "cell_type": "code",
   "execution_count": 4,
   "metadata": {},
   "outputs": [
    {
     "name": "stdout",
     "output_type": "stream",
     "text": [
      "Displaying 25 of 247 matches:\n",
      "ave been changing at a dramatic pace. NSA requires nearly complete re-tooling t\n",
      " Agency. The report mandates that the NSA manage its modernization effort as th\n",
      "h individual technology effort within NSA as a major acquisition program. As th\n",
      "qualified technical experts to review NSA operations. The Technical Advisory Gr\n",
      " With limited available resources the NSA has maintained its day-to-day readine\n",
      "he security of the United States that NSA be modernized. One of the most import\n",
      " of its magnitude and complexity, the NSA invites superlatives and outsize comp\n",
      "otential take is so much greater. The NSA was intended to be the world's premie\n",
      "es and satellites in the heavens. The NSA rose to dominance in what were, in te\n",
      " needed to get in their path. And the NSA did this better than anyone else, usi\n",
      " 22,000 miles above Earth. It was the NSA that first reported the presence of S\n",
      " missiles in Cuba in 1962. It was the NSA that first warned of the Tet offensiv\n",
      "ietnam in January 1968. All told, the NSA broke the codes of 40 nations during \n",
      " Gaddafi's Tripoli headquarters after NSA intercepts revealed Libya's role in a\n",
      "es requires absolute secrecy, and the NSA took secrecy to extremes. Most Americ\n",
      "y Sen. Frank Church revealed that the NSA had far exceeded the foreign intellig\n",
      "egulations that strictly prohibit the NSA from spying on U.S. soil--laws and re\n",
      "as a standing joke at Fort Meade that NSA stood for No Such Agency or Never Say\n",
      "ign of how secretive and arrogant the NSA had become. (By contrast, Hayden coop\n",
      " all those pillars have crumbled. The NSA is still one of the largest employers\n",
      "na to India to Pakistan. In 1980, the NSA focused about 60 percent of its budge\n",
      "possible to break. By the late 1990s, NSA officials had given up a futile effor\n",
      "rating systems. More immediately, the NSA had to confront the exploding volume \n",
      "enly controls the technology that the NSA needs to keep pace. But the NSA has b\n",
      "t the NSA needs to keep pace. But the NSA has been isolated from the dynamism o\n"
     ]
    }
   ],
   "source": [
    "corpus.concordance(\"NSA\")"
   ]
  },
  {
   "cell_type": "code",
   "execution_count": 5,
   "metadata": {},
   "outputs": [
    {
     "name": "stdout",
     "output_type": "stream",
     "text": [
      "Displaying 12 of 12 matches:\n",
      "ny years. With WikiLeaks and Edward Snowden spilling our beans every day, what \n",
      "bamaCare. With WikiLeaks and Edward Snowden spilling our beans every day, what \n",
      "Sebelius. With WikiLeaks and Edward Snowden spilling our beans every day, what'\n",
      "ral Eric Holder. I want to know how Snowden got his hands on so much of the nat\n",
      " of Moscow's granting asylum to Mr. Snowden and its backing of President Bashar\n",
      "ths ago a man by the name of Edward Snowden lit up the airwaves with his illega\n",
      "ational Security Agency played. Mr. Snowden provided a titillating, mesmerizing\n",
      "grim. Following the leaks by Edward Snowden beginning in June last year of high\n",
      " of U.S. phone records since Edward Snowden exposed the program nearly two year\n",
      "eir phone calls. This is called the Snowden revelation. Under the banner of nat\n",
      " was unlawfully disclosed by Edward Snowden 2 years ago, which is why we are ab\n",
      "l Security Agency contractor Edward Snowden leaked documents that exposed the N\n"
     ]
    }
   ],
   "source": [
    "corpus.concordance(\"Snowden\")"
   ]
  },
  {
   "cell_type": "code",
   "execution_count": 6,
   "metadata": {},
   "outputs": [
    {
     "name": "stdout",
     "output_type": "stream",
     "text": [
      "mr._and edward_beginning edward_2 edward_spilling edward_lit\n",
      "edward_exposed edward_leaked how_got the_revelation. mr._provided\n"
     ]
    }
   ],
   "source": [
    "corpus.common_contexts([\"Snowden\"])"
   ]
  },
  {
   "cell_type": "code",
   "execution_count": 7,
   "metadata": {},
   "outputs": [
    {
     "data": {
      "image/png": "[encoded data removed]",
      "text/plain": [
       "<matplotlib.figure.Figure at 0x11a7b8990>"
      ]
     },
     "metadata": {},
     "output_type": "display_data"
    }
   ],
   "source": [
    "corpus.dispersion_plot([\"Snowden\", \"privacy\", \"NSA\"])"
   ]
  },
  {
   "cell_type": "code",
   "execution_count": 21,
   "metadata": {},
   "outputs": [
    {
     "data": {
      "image/png": "[encoded data removed]",
      "text/plain": [
       "<matplotlib.figure.Figure at 0x110c83350>"
      ]
     },
     "metadata": {},
     "output_type": "display_data"
    }
   ],
   "source": [
    "fdist = nltk.FreqDist(corpus)\n",
    "fdist.plot(20, cumulative=False)"
   ]
  },
  {
   "cell_type": "code",
   "execution_count": 9,
   "metadata": {},
   "outputs": [
    {
     "name": "stdout",
     "output_type": "stream",
     "text": [
      "National Security; United States; Security Agency; Security Agency,;\n",
      "(50 U.S.C.; national security; Central Intelligence; Federal Bureau;\n",
      "National Reconnaissance; Security Agency.; Inspector General; Select\n",
      "Committee; intelligence community; Foreign Intelligence; National\n",
      "Geospatial-Intelligence; fiscal year; Defense Intelligence;\n",
      "Intelligence Surveillance; Reconnaissance Office.; law enforcement\n"
     ]
    }
   ],
   "source": [
    "corpus.collocations()"
   ]
  },
  {
   "cell_type": "code",
   "execution_count": 13,
   "metadata": {},
   "outputs": [],
   "source": [
    "from nltk.sentiment.vader import SentimentIntensityAnalyzer\n",
    "sid = SentimentIntensityAnalyzer()"
   ]
  },
  {
   "cell_type": "code",
   "execution_count": 14,
   "metadata": {},
   "outputs": [
    {
     "data": {
      "text/plain": [
       "{'compound': 1.0, 'neg': 0.062, 'neu': 0.778, 'pos': 0.16}"
      ]
     },
     "execution_count": 14,
     "metadata": {},
     "output_type": "execute_result"
    }
   ],
   "source": [
    "sid.polarity_scores(text)"
   ]
  },
  {
   "cell_type": "code",
   "execution_count": 15,
   "metadata": {},
   "outputs": [
    {
     "name": "stdout",
     "output_type": "stream",
     "text": [
      "0.436274509804\n"
     ]
    }
   ],
   "source": [
    "dems = 0.0\n",
    "for statement in statements:\n",
    "    if statement[\"party\"] == \"Democrat\":\n",
    "        dems += 1.\n",
    "print dems / len(statements)"
   ]
  },
  {
   "cell_type": "code",
   "execution_count": 16,
   "metadata": {
    "collapsed": true
   },
   "outputs": [],
   "source": [
    "republican_text = ' '.join([statement['statement'] for statement in sorted(statements, key=lambda k: k['datetime']) if statement['party'] == \"Republican\"])"
   ]
  },
  {
   "cell_type": "code",
   "execution_count": 17,
   "metadata": {
    "collapsed": true
   },
   "outputs": [],
   "source": [
    "democrat_text = ' '.join([statement['statement'] for statement in sorted(statements, key=lambda k: k['datetime']) if statement['party'] == \"Democrat\"])"
   ]
  },
  {
   "cell_type": "code",
   "execution_count": 18,
   "metadata": {},
   "outputs": [
    {
     "data": {
      "text/plain": [
       "{'compound': 1.0, 'neg': 0.081, 'neu': 0.762, 'pos': 0.157}"
      ]
     },
     "execution_count": 18,
     "metadata": {},
     "output_type": "execute_result"
    }
   ],
   "source": [
    "sid.polarity_scores(republican_text)"
   ]
  },
  {
   "cell_type": "code",
   "execution_count": 19,
   "metadata": {},
   "outputs": [
    {
     "data": {
      "text/plain": [
       "{'compound': 1.0, 'neg': 0.073, 'neu': 0.765, 'pos': 0.162}"
      ]
     },
     "execution_count": 19,
     "metadata": {},
     "output_type": "execute_result"
    }
   ],
   "source": [
    "sid.polarity_scores(democrat_text)"
   ]
  },
  {
   "cell_type": "code",
   "execution_count": null,
   "metadata": {
    "collapsed": true
   },
   "outputs": [],
   "source": []
  }
 ],
 "metadata": {
  "kernelspec": {
   "display_name": "Python 2",
   "language": "python",
   "name": "python2"
  },
  "language_info": {
   "codemirror_mode": {
    "name": "ipython",
    "version": 2
   },
   "file_extension": ".py",
   "mimetype": "text/x-python",
   "name": "python",
   "nbconvert_exporter": "python",
   "pygments_lexer": "ipython2",
   "version": "2.7.13"
  }
 },
 "nbformat": 4,
 "nbformat_minor": 2
}
